{
 "cells": [
  {
   "cell_type": "code",
   "execution_count": 14,
   "id": "503c41fc-e8eb-450c-a960-eb7aecfee968",
   "metadata": {},
   "outputs": [
    {
     "data": {
      "text/html": [
       "<div>\n",
       "<style scoped>\n",
       "    .dataframe tbody tr th:only-of-type {\n",
       "        vertical-align: middle;\n",
       "    }\n",
       "\n",
       "    .dataframe tbody tr th {\n",
       "        vertical-align: top;\n",
       "    }\n",
       "\n",
       "    .dataframe thead th {\n",
       "        text-align: right;\n",
       "    }\n",
       "</style>\n",
       "<table border=\"1\" class=\"dataframe\">\n",
       "  <thead>\n",
       "    <tr style=\"text-align: right;\">\n",
       "      <th></th>\n",
       "      <th>first</th>\n",
       "      <th>last</th>\n",
       "      <th>email</th>\n",
       "    </tr>\n",
       "  </thead>\n",
       "  <tbody>\n",
       "    <tr>\n",
       "      <th>0</th>\n",
       "      <td>shadi</td>\n",
       "      <td>ghadi</td>\n",
       "      <td>haleghiasi@gmail.com</td>\n",
       "    </tr>\n",
       "    <tr>\n",
       "      <th>1</th>\n",
       "      <td>hassan</td>\n",
       "      <td>iassan</td>\n",
       "      <td>henri@gmai.com</td>\n",
       "    </tr>\n",
       "    <tr>\n",
       "      <th>2</th>\n",
       "      <td>zara</td>\n",
       "      <td>zaran</td>\n",
       "      <td>maryam@gmail.com</td>\n",
       "    </tr>\n",
       "  </tbody>\n",
       "</table>\n",
       "</div>"
      ],
      "text/plain": [
       "    first    last                 email\n",
       "0   shadi   ghadi  haleghiasi@gmail.com\n",
       "1  hassan  iassan        henri@gmai.com\n",
       "2    zara   zaran      maryam@gmail.com"
      ]
     },
     "execution_count": 14,
     "metadata": {},
     "output_type": "execute_result"
    }
   ],
   "source": [
    "import pandas as pd\n",
    "people={\n",
    "    \"first\":[\"shadi\",\"hassan\",\"zara\"],\n",
    "    \"last\":[\"ghadi\",\"iassan\",\"zaran\"],\n",
    "    \"email\":[\"haleghiasi@gmail.com\",\"henri@gmai.com\",\"maryam@gmail.com\"]\n",
    "}\n",
    "df=pd.DataFrame(people)\n",
    "df\n",
    "\n"
   ]
  },
  {
   "cell_type": "code",
   "execution_count": 3,
   "id": "a58f139b-5155-48b1-ae78-52418bc2b167",
   "metadata": {},
   "outputs": [
    {
     "data": {
      "text/plain": [
       "0    haleghiasi@gmail.com\n",
       "1          henri@gmai.com\n",
       "2        maryam@gmail.com\n",
       "Name: email, dtype: object"
      ]
     },
     "execution_count": 3,
     "metadata": {},
     "output_type": "execute_result"
    }
   ],
   "source": [
    "df[\"email\"]"
   ]
  },
  {
   "cell_type": "code",
   "execution_count": 15,
   "id": "4ef7ff12-5a77-40c4-800f-5703287911f5",
   "metadata": {},
   "outputs": [],
   "source": [
    "df.set_index(\"email\",inplace = True)\n"
   ]
  },
  {
   "cell_type": "code",
   "execution_count": 9,
   "id": "55e0bbdd-982b-456e-820a-afa7597f59d8",
   "metadata": {},
   "outputs": [
    {
     "data": {
      "text/html": [
       "<div>\n",
       "<style scoped>\n",
       "    .dataframe tbody tr th:only-of-type {\n",
       "        vertical-align: middle;\n",
       "    }\n",
       "\n",
       "    .dataframe tbody tr th {\n",
       "        vertical-align: top;\n",
       "    }\n",
       "\n",
       "    .dataframe thead th {\n",
       "        text-align: right;\n",
       "    }\n",
       "</style>\n",
       "<table border=\"1\" class=\"dataframe\">\n",
       "  <thead>\n",
       "    <tr style=\"text-align: right;\">\n",
       "      <th></th>\n",
       "      <th>first</th>\n",
       "      <th>last</th>\n",
       "    </tr>\n",
       "    <tr>\n",
       "      <th>email</th>\n",
       "      <th></th>\n",
       "      <th></th>\n",
       "    </tr>\n",
       "  </thead>\n",
       "  <tbody>\n",
       "    <tr>\n",
       "      <th>haleghiasi@gmail.com</th>\n",
       "      <td>shadi</td>\n",
       "      <td>ghadi</td>\n",
       "    </tr>\n",
       "    <tr>\n",
       "      <th>henri@gmai.com</th>\n",
       "      <td>hassan</td>\n",
       "      <td>iassan</td>\n",
       "    </tr>\n",
       "    <tr>\n",
       "      <th>maryam@gmail.com</th>\n",
       "      <td>zara</td>\n",
       "      <td>zaran</td>\n",
       "    </tr>\n",
       "  </tbody>\n",
       "</table>\n",
       "</div>"
      ],
      "text/plain": [
       "                       first    last\n",
       "email                               \n",
       "haleghiasi@gmail.com   shadi   ghadi\n",
       "henri@gmai.com        hassan  iassan\n",
       "maryam@gmail.com        zara   zaran"
      ]
     },
     "execution_count": 9,
     "metadata": {},
     "output_type": "execute_result"
    }
   ],
   "source": [
    "df\n"
   ]
  },
  {
   "cell_type": "code",
   "execution_count": 10,
   "id": "e871362d-5e28-4eb0-9cff-beb1637b0d82",
   "metadata": {},
   "outputs": [
    {
     "data": {
      "text/plain": [
       "Index(['haleghiasi@gmail.com', 'henri@gmai.com', 'maryam@gmail.com'], dtype='object', name='email')"
      ]
     },
     "execution_count": 10,
     "metadata": {},
     "output_type": "execute_result"
    }
   ],
   "source": [
    "df.index"
   ]
  },
  {
   "cell_type": "code",
   "execution_count": null,
   "id": "6a64f0f0-0598-44ad-a1da-4a183fc0ae7a",
   "metadata": {},
   "outputs": [
    {
     "data": {
      "text/plain": [
       "first    shadi\n",
       "last     ghadi\n",
       "Name: haleghiasi@gmail.com, dtype: object"
      ]
     },
     "execution_count": 17,
     "metadata": {},
     "output_type": "execute_result"
    }
   ],
   "source": [
    "df.loc[\"haleghiasi@gmail.com\"]"
   ]
  },
  {
   "cell_type": "code",
   "execution_count": 18,
   "id": "7e5adc75-d52b-4e1c-bae2-9d72ae8b27ba",
   "metadata": {},
   "outputs": [
    {
     "data": {
      "text/html": [
       "<div>\n",
       "<style scoped>\n",
       "    .dataframe tbody tr th:only-of-type {\n",
       "        vertical-align: middle;\n",
       "    }\n",
       "\n",
       "    .dataframe tbody tr th {\n",
       "        vertical-align: top;\n",
       "    }\n",
       "\n",
       "    .dataframe thead th {\n",
       "        text-align: right;\n",
       "    }\n",
       "</style>\n",
       "<table border=\"1\" class=\"dataframe\">\n",
       "  <thead>\n",
       "    <tr style=\"text-align: right;\">\n",
       "      <th></th>\n",
       "      <th>email</th>\n",
       "      <th>first</th>\n",
       "      <th>last</th>\n",
       "    </tr>\n",
       "  </thead>\n",
       "  <tbody>\n",
       "    <tr>\n",
       "      <th>0</th>\n",
       "      <td>haleghiasi@gmail.com</td>\n",
       "      <td>shadi</td>\n",
       "      <td>ghadi</td>\n",
       "    </tr>\n",
       "    <tr>\n",
       "      <th>1</th>\n",
       "      <td>henri@gmai.com</td>\n",
       "      <td>hassan</td>\n",
       "      <td>iassan</td>\n",
       "    </tr>\n",
       "    <tr>\n",
       "      <th>2</th>\n",
       "      <td>maryam@gmail.com</td>\n",
       "      <td>zara</td>\n",
       "      <td>zaran</td>\n",
       "    </tr>\n",
       "  </tbody>\n",
       "</table>\n",
       "</div>"
      ],
      "text/plain": [
       "                  email   first    last\n",
       "0  haleghiasi@gmail.com   shadi   ghadi\n",
       "1        henri@gmai.com  hassan  iassan\n",
       "2      maryam@gmail.com    zara   zaran"
      ]
     },
     "execution_count": 18,
     "metadata": {},
     "output_type": "execute_result"
    }
   ],
   "source": [
    "df.reset_index(inplace=True)\n",
    "df"
   ]
  },
  {
   "cell_type": "code",
   "execution_count": 23,
   "id": "97f39327-aeb0-442a-8d5d-45bebb2ba31c",
   "metadata": {},
   "outputs": [
    {
     "data": {
      "text/html": [
       "<div>\n",
       "<style scoped>\n",
       "    .dataframe tbody tr th:only-of-type {\n",
       "        vertical-align: middle;\n",
       "    }\n",
       "\n",
       "    .dataframe tbody tr th {\n",
       "        vertical-align: top;\n",
       "    }\n",
       "\n",
       "    .dataframe thead th {\n",
       "        text-align: right;\n",
       "    }\n",
       "</style>\n",
       "<table border=\"1\" class=\"dataframe\">\n",
       "  <thead>\n",
       "    <tr style=\"text-align: right;\">\n",
       "      <th></th>\n",
       "      <th>email</th>\n",
       "      <th>first</th>\n",
       "      <th>last</th>\n",
       "    </tr>\n",
       "  </thead>\n",
       "  <tbody>\n",
       "    <tr>\n",
       "      <th>2</th>\n",
       "      <td>maryam@gmail.com</td>\n",
       "      <td>zara</td>\n",
       "      <td>zaran</td>\n",
       "    </tr>\n",
       "    <tr>\n",
       "      <th>1</th>\n",
       "      <td>henri@gmai.com</td>\n",
       "      <td>hassan</td>\n",
       "      <td>iassan</td>\n",
       "    </tr>\n",
       "    <tr>\n",
       "      <th>0</th>\n",
       "      <td>haleghiasi@gmail.com</td>\n",
       "      <td>shadi</td>\n",
       "      <td>ghadi</td>\n",
       "    </tr>\n",
       "  </tbody>\n",
       "</table>\n",
       "</div>"
      ],
      "text/plain": [
       "                  email   first    last\n",
       "2      maryam@gmail.com    zara   zaran\n",
       "1        henri@gmai.com  hassan  iassan\n",
       "0  haleghiasi@gmail.com   shadi   ghadi"
      ]
     },
     "execution_count": 23,
     "metadata": {},
     "output_type": "execute_result"
    }
   ],
   "source": [
    "df.sort_index(ascending=False)\n"
   ]
  },
  {
   "cell_type": "code",
   "execution_count": null,
   "id": "c2c6fca6-d16d-4f54-b8de-69a6ffa26274",
   "metadata": {},
   "outputs": [],
   "source": []
  }
 ],
 "metadata": {
  "kernelspec": {
   "display_name": "Python 3 (ipykernel)",
   "language": "python",
   "name": "python3"
  },
  "language_info": {
   "codemirror_mode": {
    "name": "ipython",
    "version": 3
   },
   "file_extension": ".py",
   "mimetype": "text/x-python",
   "name": "python",
   "nbconvert_exporter": "python",
   "pygments_lexer": "ipython3",
   "version": "3.13.7"
  }
 },
 "nbformat": 4,
 "nbformat_minor": 5
}
