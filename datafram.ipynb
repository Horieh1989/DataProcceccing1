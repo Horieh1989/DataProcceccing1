{
 "cells": [
  {
   "cell_type": "code",
   "execution_count": null,
   "id": "40849aa2-c2a3-4004-9626-5510d7233656",
   "metadata": {},
   "outputs": [],
   "source": [
    "\n",
    "people={\n",
    "    \"first\":[\"hale\",\"sara\",\"maryam\"],\n",
    "    \"last\":[\"ghiasidalalian\",\"ivarson\",\"khan\"],\n",
    "    \"email\":[\"haleghiasi@gmail.com\",\"henri@gmai.com\",\"maryam@gmail.com\"]\n",
    "}"
   ]
  },
  {
   "cell_type": "code",
   "execution_count": 32,
   "id": "578af745-a2c0-4745-8912-065626a0054d",
   "metadata": {},
   "outputs": [
    {
     "data": {
      "text/plain": [
       "first                   shadi\n",
       "last                    ghadi\n",
       "email    haleghiasi@gmail.com\n",
       "Name: 0, dtype: object"
      ]
     },
     "execution_count": 32,
     "metadata": {},
     "output_type": "execute_result"
    }
   ],
   "source": [
    "import pandas as pd\n",
    "people={\n",
    "    \"first\":[\"shadi\",\"hassan\",\"zara\"],\n",
    "    \"last\":[\"ghadi\",\"iassan\",\"zaran\"],\n",
    "    \"email\":[\"haleghiasi@gmail.com\",\"henri@gmai.com\",\"maryam@gmail.com\"]\n",
    "}\n",
    "\n",
    "df=pd.DataFrame(people)\n",
    "df\n",
    "\n",
    "df[[\"email\",\"first\"]]\n",
    "df.columns\n",
    "df.iloc[0]"
   ]
  },
  {
   "cell_type": "code",
   "execution_count": null,
   "id": "f1678894-4174-4ade-b202-4862c713bd59",
   "metadata": {},
   "outputs": [],
   "source": []
  },
  {
   "cell_type": "code",
   "execution_count": null,
   "id": "7acab5e2-201c-4f13-9796-7e05b8996318",
   "metadata": {},
   "outputs": [],
   "source": []
  },
  {
   "cell_type": "code",
   "execution_count": null,
   "id": "4fcd86b1-9d5e-4175-b907-3c3dc5643b93",
   "metadata": {},
   "outputs": [],
   "source": []
  }
 ],
 "metadata": {
  "kernelspec": {
   "display_name": "Python 3 (ipykernel)",
   "language": "python",
   "name": "python3"
  },
  "language_info": {
   "codemirror_mode": {
    "name": "ipython",
    "version": 3
   },
   "file_extension": ".py",
   "mimetype": "text/x-python",
   "name": "python",
   "nbconvert_exporter": "python",
   "pygments_lexer": "ipython3",
   "version": "3.13.7"
  }
 },
 "nbformat": 4,
 "nbformat_minor": 5
}
