{
 "cells": [
  {
   "cell_type": "code",
   "execution_count": null,
   "id": "40849aa2-c2a3-4004-9626-5510d7233656",
   "metadata": {},
   "outputs": [],
   "source": [
    "\n",
    "people={\n",
    "    \"first\":[\"hale\",\"sara\",\"maryam\"],\n",
    "    \"last\":[\"ghiasidalalian\",\"ivarson\",\"khan\"],\n",
    "    \"email\":[\"haleghiasi@gmail.com\",\"henri@gmai.com\",\"maryam@gmail.com\"]\n",
    "}"
   ]
  },
  {
   "cell_type": "code",
   "execution_count": 25,
   "id": "578af745-a2c0-4745-8912-065626a0054d",
   "metadata": {},
   "outputs": [
    {
     "data": {
      "text/html": [
       "<div>\n",
       "<style scoped>\n",
       "    .dataframe tbody tr th:only-of-type {\n",
       "        vertical-align: middle;\n",
       "    }\n",
       "\n",
       "    .dataframe tbody tr th {\n",
       "        vertical-align: top;\n",
       "    }\n",
       "\n",
       "    .dataframe thead th {\n",
       "        text-align: right;\n",
       "    }\n",
       "</style>\n",
       "<table border=\"1\" class=\"dataframe\">\n",
       "  <thead>\n",
       "    <tr style=\"text-align: right;\">\n",
       "      <th></th>\n",
       "      <th>first</th>\n",
       "      <th>last</th>\n",
       "      <th>email</th>\n",
       "    </tr>\n",
       "  </thead>\n",
       "  <tbody>\n",
       "    <tr>\n",
       "      <th>0</th>\n",
       "      <td>shadi</td>\n",
       "      <td>ghadi</td>\n",
       "      <td>haleghiasi@gmail.com</td>\n",
       "    </tr>\n",
       "    <tr>\n",
       "      <th>1</th>\n",
       "      <td>hassan</td>\n",
       "      <td>iassan</td>\n",
       "      <td>henri@gmai.com</td>\n",
       "    </tr>\n",
       "    <tr>\n",
       "      <th>2</th>\n",
       "      <td>zara</td>\n",
       "      <td>zaran</td>\n",
       "      <td>maryam@gmail.com</td>\n",
       "    </tr>\n",
       "  </tbody>\n",
       "</table>\n",
       "</div>"
      ],
      "text/plain": [
       "    first    last                 email\n",
       "0   shadi   ghadi  haleghiasi@gmail.com\n",
       "1  hassan  iassan        henri@gmai.com\n",
       "2    zara   zaran      maryam@gmail.com"
      ]
     },
     "execution_count": 25,
     "metadata": {},
     "output_type": "execute_result"
    }
   ],
   "source": [
    "import pandas as pd\n",
    "people={\n",
    "    \"first\":[\"shadi\",\"hassan\",\"zara\"],\n",
    "    \"last\":[\"ghadi\",\"iassan\",\"zaran\"],\n",
    "    \"email\":[\"haleghiasi@gmail.com\",\"henri@gmai.com\",\"maryam@gmail.com\"]\n",
    "}\n",
    "\n",
    "df=pd.DataFrame(people)\n",
    "df\n",
    "\n",
    "\n"
   ]
  },
  {
   "cell_type": "code",
   "execution_count": null,
   "id": "f1678894-4174-4ade-b202-4862c713bd59",
   "metadata": {},
   "outputs": [],
   "source": []
  },
  {
   "cell_type": "code",
   "execution_count": null,
   "id": "7acab5e2-201c-4f13-9796-7e05b8996318",
   "metadata": {},
   "outputs": [],
   "source": []
  },
  {
   "cell_type": "code",
   "execution_count": null,
   "id": "4fcd86b1-9d5e-4175-b907-3c3dc5643b93",
   "metadata": {},
   "outputs": [],
   "source": []
  }
 ],
 "metadata": {
  "kernelspec": {
   "display_name": "Python 3 (ipykernel)",
   "language": "python",
   "name": "python3"
  },
  "language_info": {
   "codemirror_mode": {
    "name": "ipython",
    "version": 3
   },
   "file_extension": ".py",
   "mimetype": "text/x-python",
   "name": "python",
   "nbconvert_exporter": "python",
   "pygments_lexer": "ipython3",
   "version": "3.13.7"
  }
 },
 "nbformat": 4,
 "nbformat_minor": 5
}
