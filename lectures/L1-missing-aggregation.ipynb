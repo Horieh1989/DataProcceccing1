{
 "cells": [
  {
   "cell_type": "markdown",
   "metadata": {},
   "source": [
    "\n",
    "<a href=\"https://colab.research.google.com/github/kokchun/Databehandling-AI22/blob/main/Lectures/L1-missing-aggregation.ipynb\" target=\"_parent\"><img align=\"left\" src=\"https://colab.research.google.com/assets/colab-badge.svg\" alt=\"Open In Colab\"/></a> &nbsp; for interacting with the code"
   ]
  },
  {
   "cell_type": "markdown",
   "metadata": {},
   "source": [
    "---\n",
    "# Lecture notes - Pandas - missing data & aggregations\n",
    "\n",
    "---\n",
    "This is the lecture note for **Pandas missing data & aggregations** - but it's built upon contents from previous course: \n",
    "- Python programming\n",
    "\n",
    "<p class = \"alert alert-info\" role=\"alert\"><b>Note</b> that this lecture note gives a brief introduction to Pandas. I encourage you to read further about pandas.\n",
    "\n",
    "Read more \n",
    "\n",
    "- [documentation - read_csv](https://pandas.pydata.org/pandas-docs/stable/reference/api/pandas.read_csv.html)\n",
    "\n",
    "- [documentation - aggregate](https://pandas.pydata.org/docs/reference/api/pandas.DataFrame.aggregate.html)\n",
    "\n",
    "- [documentation - groupby](https://pandas.pydata.org/docs/reference/api/pandas.DataFrame.groupby.html)\n",
    "\n",
    "- [documentation - missing values](https://pandas.pydata.org/pandas-docs/stable/user_guide/missing_data.html)\n",
    "---"
   ]
  },
  {
   "cell_type": "markdown",
   "metadata": {},
   "source": [
    "## Setup\n",
    "- create dummy DataFrame\n",
    "- it's very useful to create dummy DataFrame in order to test and learn Pandas methods"
   ]
  },
  {
   "cell_type": "code",
   "execution_count": null,
   "metadata": {},
   "outputs": [],
   "source": [
    "import numpy as np\n",
    "import pandas as pd\n",
    "import seaborn as sns\n",
    "\n",
    "df="
   ]
  },
  {
   "cell_type": "markdown",
   "metadata": {},
   "source": [
    "---\n",
    "## Missing data techniques\n",
    "- None - Pythonic missing data. A Python object - operations done on Python level and not numpy or pandas.\n",
    "    - Error when performing arithmetic on None dtypes\n",
    "- NaN - floating point \"Not a Number\". Supports fast operations, however all arithmetic operations with NaN results in a NaN\n",
    "- NA - pd.NA -> missing indicator that can be used consistently across data types\n",
    "\n",
    "Pandas treats NaN and None almost interchangeably\n",
    "- isnull() - returns true if value is null  \n",
    "- notnull() - returns true if value is not null\n",
    "- dropna() - drops the the whole axis with nulls \n",
    "- fillna() - fills the null values with certain value"
   ]
  },
  {
   "cell_type": "markdown",
   "metadata": {},
   "source": [
    "---\n",
    "## Missing data - strategy\n",
    "Note that there are several strategies to deal with missing data and we will come back to this in the future. \n",
    "The strategy you should choose may depend on:\n",
    "- dataset size\n",
    "    - small dataset - must be more careful with the data\n",
    "    - large dataset and small amounts of nulls - can probably remove the rows\n",
    "- can use different ways to impute missing data\n",
    "- valuable information (depends on the usage of the data)\n",
    "- percentage of missing values \n",
    "- domain knowledge - how to fill the nulls \n",
    "    - e.g. the score example above might be plausible to assume 0 score if the value is missing for certain round\n",
    "    - e.g. missing some value in a category might be filled with mean or median of that category\n",
    "    - e.g. missing value between two points could be interpolated\n",
    "- note that missing values can negatively impact:\n",
    "    - data visualization\n",
    "    - arithmetic computations\n",
    "    - machine learning algorithms "
   ]
  },
  {
   "cell_type": "markdown",
   "metadata": {},
   "source": [
    "---\n",
    "## Aggregations and groupby\n",
    "Summarizing data\n",
    "\n",
    "aggegations: \n",
    "```python\n",
    "sum(), mean(), median(), min(), max()\n",
    "```\n",
    "\n",
    "Don't confuse with the **aggregate()** or **agg()** for short, method which uses one or more operations over specified axis"
   ]
  },
  {
   "cell_type": "code",
   "execution_count": null,
   "metadata": {},
   "outputs": [
    {
     "name": "stdout",
     "output_type": "stream",
     "text": [
      "   survived  pclass     sex   age  sibsp  parch     fare embarked  class  \\\n",
      "0         0       3    male  22.0      1      0   7.2500        S  Third   \n",
      "1         1       1  female  38.0      1      0  71.2833        C  First   \n",
      "2         1       3  female  26.0      0      0   7.9250        S  Third   \n",
      "3         1       1  female  35.0      1      0  53.1000        S  First   \n",
      "4         0       3    male  35.0      0      0   8.0500        S  Third   \n",
      "\n",
      "     who  adult_male deck  embark_town alive  alone  \n",
      "0    man        True  NaN  Southampton    no  False  \n",
      "1  woman       False    C    Cherbourg   yes  False  \n",
      "2  woman       False  NaN  Southampton   yes   True  \n",
      "3  woman       False    C  Southampton   yes  False  \n",
      "4    man        True  NaN  Southampton    no   True  \n"
     ]
    }
   ],
   "source": [
    "import seaborn as sns\n",
    "titanic=sns.load_dataset('titanic')\n",
    "print(titanic.head())\n"
   ]
  },
  {
   "cell_type": "markdown",
   "metadata": {},
   "source": [
    "1. first split the data by two group male\\female\n",
    "2. calculate the avrage of age and survived\n",
    "3. return the new data form which sex is index\n",
    "4. i is here male\\female\n",
    "5. "
   ]
  },
  {
   "cell_type": "code",
   "execution_count": null,
   "metadata": {},
   "outputs": [
    {
     "name": "stdout",
     "output_type": "stream",
     "text": [
      "female <class 'str'>\n",
      "percentage survived female: 74.2%\n",
      "mean age female: 27.9\n",
      "male <class 'str'>\n",
      "percentage survived male: 18.9%\n",
      "mean age male: 30.7\n"
     ]
    }
   ],
   "source": [
    "#mean(),sum() medium(),min(),max()\n",
    "survivors=titanic.groupby('sex')[['survived','age']].mean()\n",
    " \n",
    "for i in survivors.index:\n",
    "    print(i, type(i))\n",
    "    survived_percentage=survivors.loc[i,'survived']*100#\n",
    "    print(f\"percentage survived {i}: {survived_percentage:.1f}%\")\n",
    "    print(f\"mean age {i}: {survivors.loc[i,'age']:.1f}\")\n",
    "\n",
    "\n"
   ]
  },
  {
   "cell_type": "markdown",
   "metadata": {},
   "source": [
    "### 📊 Questions for Median\n",
    "\n",
    "- What is the **median age** of all passengers?\n",
    "- What is the **median fare** paid by survivors?\n",
    "- What is the **median age** of passengers in 1st class? with integer or name\n",
    "\n"
   ]
  },
  {
   "cell_type": "code",
   "execution_count": 28,
   "metadata": {},
   "outputs": [
    {
     "name": "stdout",
     "output_type": "stream",
     "text": [
      "median age of all passengers: 28.0\n",
      "median fare of survivors: 26.0\n",
      "median fare of non-survivors: 10.5\n",
      "median of age in first class: 37.0\n",
      "median age of third class:24.0\n",
      "medianageof first class:37.0\n"
     ]
    }
   ],
   "source": [
    "median_age=titanic['age'].median()\n",
    "print(f\"median age of all passengers: {median_age:.1f}\")\n",
    "\n",
    "median_fare_survivors=titanic.groupby('survived')['fare'].median()\n",
    "print(f\"median fare of survivors: {median_fare_survivors.loc[1]:.1f}\")\n",
    "print(f\"median fare of non-survivors: {median_fare_survivors.loc[0]:.1f}\")\n",
    "\n",
    "media_passanger_1st_class=titanic.groupby('pclass')['age'].median()\n",
    "print(f\"median of age in first class: {media_passanger_1st_class.loc[1]:.1f}\")\n",
    "print(f\"median age of third class:{media_passanger_1st_class.loc[3]:.1f}\")\n",
    "\n",
    "#or\n",
    "median_passenger_first_class=titanic.groupby('class',observed=True)['age'].median()\n",
    "print(f\"medianageof first class:{median_passenger_first_class.loc['First']:.1f}\")\n",
    "\n",
    "\n"
   ]
  },
  {
   "cell_type": "markdown",
   "metadata": {},
   "source": [
    "\n",
    "### ➕ Questions for Sum\n",
    "\n",
    "- What is the **total number of survivors**?\n",
    "- What is the **total fare collected** from all passengers?\n",
    "- What is the **sum of siblings/spouses aboard** for female passengers?\n",
    "\n",
    "\n",
    "### 🔽 Questions for Min\n",
    "\n",
    "- What is the **minimum age** of any passenger?\n",
    "- What is the **lowest fare** paid on the Titanic?\n",
    "- What is the **youngest age** among survivors?\n",
    "\n",
    "\n",
    "\n",
    "### 🔼 Questions for Max\n",
    "\n",
    "- What is the **maximum age** of passengers who survived?\n",
    "- What is the **highest fare** paid by any passenger?\n",
    "- What is the **maximum number of parents/children aboard** for any individual?\n",
    "\n"
   ]
  },
  {
   "cell_type": "code",
   "execution_count": null,
   "metadata": {},
   "outputs": [],
   "source": []
  },
  {
   "cell_type": "markdown",
   "metadata": {},
   "source": [
    "---\n",
    "\n",
    "Kokchun Giang\n",
    "\n",
    "[LinkedIn][linkedIn_kokchun]\n",
    "\n",
    "[GitHub portfolio][github_portfolio]\n",
    "\n",
    "[linkedIn_kokchun]: https://www.linkedin.com/in/kokchungiang/\n",
    "[github_portfolio]: https://github.com/kokchun/Portfolio-Kokchun-Giang\n",
    "\n",
    "---"
   ]
  }
 ],
 "metadata": {
  "kernelspec": {
   "display_name": "DataProcceccing",
   "language": "python",
   "name": "python3"
  },
  "language_info": {
   "codemirror_mode": {
    "name": "ipython",
    "version": 3
   },
   "file_extension": ".py",
   "mimetype": "text/x-python",
   "name": "python",
   "nbconvert_exporter": "python",
   "pygments_lexer": "ipython3",
   "version": "3.13.7"
  },
  "orig_nbformat": 4
 },
 "nbformat": 4,
 "nbformat_minor": 2
}
