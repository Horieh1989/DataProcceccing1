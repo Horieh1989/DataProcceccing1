{
 "cells": [
  {
   "cell_type": "markdown",
   "id": "d6065b7e",
   "metadata": {},
   "source": [
    "virtual environment to make projects safe and seperated environment\n",
    "1. Pipenv install\n",
    "2. pip freeze \" to see the packages on pipenv\"\n",
    "3. pipenv shell \"create a shell in your project environment\" a list of packages\n",
    "4. where puthon \" should have the same path to the pipenv\"\n",
    "5. where pipenv\n",
    "6. pipenv install camelcase \" install a simple library to check the file\"\n",
    "7. pipenv uninstall camelcase \"to uninstall any package\"\n",
    "8. pipfile.lock \" is a file that shows all my project dependencies: outside libraries\"\n",
    "9. python \" to write this code in terminal if i want to run any python code in terminal direct\"\n",
    "ex: from camelcase import CamelCase\n",
    "a=CamelCase()\n",
    "b= \"this is an examole of the test python\"\n",
    "print(a.hump(a))\n",
    ">>>> This is An Example Of The Test\n",
    "10. cd \"directory\"\n",
    "11. cd..\"back to the same directory\"\n",
    "\n",
    "12. pipenv requirements : to check the packages in lock file\n",
    "\n",
    "13. pipenv install nos --dev : is a testing package but very old\n",
    "14. pipenv graph \" to check dependencies\n",
    "15. exit out of pipenv"
   ]
  },
  {
   "cell_type": "markdown",
   "id": "67530ace",
   "metadata": {},
   "source": [
    "if i get error for using python locally or globally becouse pipenv is locally is better to choose python locally in your interpretor in order to not gett error for packages."
   ]
  },
  {
   "cell_type": "markdown",
   "id": "d3c4e7fc",
   "metadata": {},
   "source": [
    "django\n",
    "1. be shure i am in pipenv shell to use the django dependency\n",
    "2. django-admin startproject testproject \" to start a project\"\n",
    "3. cd testproject\n",
    "4. python manage.py runserver \" to see the starting of project\"\n",
    "5. ctrl+c stop running\n",
    "6. if is not migrate: python manage.py migrate\n",
    "7. check security of packages\n"
   ]
  },
  {
   "cell_type": "markdown",
   "id": "2b2d3f3a",
   "metadata": {},
   "source": [
    "jupyter\n",
    "1. install jupyterlab\n",
    "2. pip/pipenv install notebook\n",
    "3. jupyter notebook \" to open an web environment for jupyter \"\n",
    "4."
   ]
  },
  {
   "cell_type": "markdown",
   "id": "987dfec2",
   "metadata": {},
   "source": [
    "Pandas loading data:\n",
    "\n",
    "1. pipenv install pandas\n",
    "2. df=pd.read_csv(\"adress\")\n",
    "3. df : will print all informations of our table\n",
    "4. df.shape output\" (,raws,colums) \" this gives uss the number of raws and colums\"\n",
    "5. pd.set_option('display.max_columns', 85)\n",
    "   pd.set_option('display.max_rows', 85)\" for display rows and columns#### does not work\n",
    "6. df.head(10)\" to get the first 5 rows with collumns, you can pass the first 10 rows\"\n",
    "7. position acces integer= df.iloc[0] \" for finding data from 0 row or index : interger location \n",
    "8. lable access=  def.iloc[[0,2], 2] \"this second two is the columns index\n",
    "9. df.collumns \" for finding the columns\n",
    "10. we dont need braket when e :   from a: to b\n",
    "11. df.set_index(\"email\")\" if we want to set a index with something meaningfull like email and unik\n",
    "12. if we add inplace=True we can change the data base index totally\" df.set_index(\"email\" , inplace=True)\n",
    "13. by changing index we can go to specific index after changing index of row to somethng special\n",
    "14. df.sort_index(ascending=False) sort from visaversa.\n",
    "15. df.dropna() will delet some rows that have empt informations\n",
    "    df.dropna(axis='index', how='any', subset='email'):- Drop rows only if the email column is missing (NaN).\n",
    "    df.dropna(axis='index', how='any'):- Drop any row that has at least one missing value in any column.\n",
    "\n",
    "\n",
    "\n",
    "\n",
    "\n",
    "\n",
    "\n"
   ]
  },
  {
   "cell_type": "markdown",
   "id": "c780de1d",
   "metadata": {},
   "source": [
    "series: a row of data, asingle column of rows\n",
    "example: 0 hale\n",
    "         1 mahsa\n",
    "         2 sahar\n",
    "         \n"
   ]
  }
 ],
 "metadata": {
  "language_info": {
   "name": "python"
  }
 },
 "nbformat": 4,
 "nbformat_minor": 5
}
