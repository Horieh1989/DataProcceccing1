{
 "cells": [
  {
   "cell_type": "markdown",
   "id": "d6065b7e",
   "metadata": {},
   "source": [
    "virtual environment to make projects safe and seperated environment\n",
    "Pipenv install\n",
    "pip freeze \" to see the packages on pipenv\"\n",
    "pipenv shell \"create a shell in your project environment\"\n",
    "where puthon \" should have the same path to the pipenv\"\n",
    "where pipenv\n",
    "pipenv install camelcase \" install a simple library to check the file\"\n",
    "pipenv uninstall camelcase \"to uninstall any package\"\n",
    "pipfile.lock \" is a file that shows all my project dependencies: outside libraries\"\n",
    "python \" to write this code in terminal if i want to run any python code in terminal direct\"\n"
   ]
  }
 ],
 "metadata": {
  "language_info": {
   "name": "python"
  }
 },
 "nbformat": 4,
 "nbformat_minor": 5
}
