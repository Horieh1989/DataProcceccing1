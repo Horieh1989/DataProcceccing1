{
 "cells": [
  {
   "cell_type": "markdown",
   "id": "d6065b7e",
   "metadata": {},
   "source": [
    "virtual environment to make projects safe and seperated environment\n",
    "1. Pipenv install\n",
    "2. pip freeze \" to see the packages on pipenv\"\n",
    "3. pipenv shell \"create a shell in your project environment\" a list of packages\n",
    "4. where puthon \" should have the same path to the pipenv\"\n",
    "5. where pipenv\n",
    "6. pipenv install camelcase \" install a simple library to check the file\"\n",
    "7. pipenv uninstall camelcase \"to uninstall any package\"\n",
    "8. pipfile.lock \" is a file that shows all my project dependencies: outside libraries\"\n",
    "9. python \" to write this code in terminal if i want to run any python code in terminal direct\"\n",
    "ex: from camelcase import CamelCase\n",
    "a=CamelCase()\n",
    "b= \"this is an examole of the test python\"\n",
    "print(a.hump(a))\n",
    ">>>> This is An Example Of The Test\n",
    "10. cd \"directory\"\n",
    "11. cd..\"back to the same directory\"\n",
    "\n",
    "12. pipenv requirements : to check the packages in lock file\n",
    "\n",
    "13. pipenv install nos --dev : is a testing package but very old\n",
    "14. pipenv graph \" to check dependencies\n",
    "15. exit out of pipenv"
   ]
  },
  {
   "cell_type": "markdown",
   "id": "67530ace",
   "metadata": {},
   "source": [
    "if i get error for using python locally or globally becouse pipenv is locally is better to choose python locally in your interpretor in order to not gett error for packages."
   ]
  },
  {
   "cell_type": "markdown",
   "id": "d3c4e7fc",
   "metadata": {},
   "source": [
    "django\n",
    "1. be shure i am in pipenv shell to use the django dependency\n",
    "2. django-admin startproject testproject \" to start a project\"\n",
    "3. cd testproject\n",
    "4. python manage.py runserver \" to see the starting of project\"\n",
    "5. ctrl+c stop running\n",
    "6. if is not migrate: python manage.py migrate\n",
    "7. check security of packages\n"
   ]
  },
  {
   "cell_type": "markdown",
   "id": "2b2d3f3a",
   "metadata": {},
   "source": [
    "jupyter\n",
    "1. install jupyterlab\n",
    "2. pip/pipenv install notebook\n",
    "3. jupyter notebook \" to open an web environment for jupyter \""
   ]
  },
  {
   "cell_type": "markdown",
   "id": "987dfec2",
   "metadata": {},
   "source": [
    "1. pipenv install pandas\n"
   ]
  }
 ],
 "metadata": {
  "language_info": {
   "name": "python"
  }
 },
 "nbformat": 4,
 "nbformat_minor": 5
}
